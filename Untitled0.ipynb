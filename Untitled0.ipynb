{
 "metadata": {
  "name": "",
  "signature": "sha256:c0a234ab49099dc65d0683fc6111e5d03e6e6ac2afcd646d0fafe413d0f35ee7"
 },
 "nbformat": 3,
 "nbformat_minor": 0,
 "worksheets": [
  {
   "cells": [
    {
     "cell_type": "code",
     "collapsed": false,
     "input": [
      "import csv\n",
      "f = open('exampledata.txt', 'r')\n",
      "fcsv = csv.reader(f)\n",
      "\n",
      "d = []\n",
      "try:\n",
      "    while True:\n",
      "        d.append(fcsv.next())\n",
      "except:\n",
      "    pass\n",
      "f.close()\n",
      "print len(d)"
     ],
     "language": "python",
     "metadata": {},
     "outputs": [
      {
       "output_type": "stream",
       "stream": "stdout",
       "text": [
        "97\n"
       ]
      }
     ],
     "prompt_number": 53
    },
    {
     "cell_type": "code",
     "collapsed": false,
     "input": [
      "import numpy as np\n",
      "from sklearn import linear_model"
     ],
     "language": "python",
     "metadata": {},
     "outputs": [],
     "prompt_number": 54
    },
    {
     "cell_type": "code",
     "collapsed": false,
     "input": [
      "for i in range(len(d)):\n",
      "    for j in range(2):\n",
      "        d[i][j] = float(d[i][j])\n",
      "\n",
      "x = []\n",
      "y = []\n",
      "for i in range(len(d)):\n",
      "    x.append(d[i][1:])\n",
      "    y.append(d[i][0])"
     ],
     "language": "python",
     "metadata": {},
     "outputs": [],
     "prompt_number": 55
    },
    {
     "cell_type": "code",
     "collapsed": false,
     "input": [
      "clf = linear_model.SGDRegressor(alpha=0.0, eta0=0.001, loss='squared_loss',n_iter=5, learning_rate='constant' )\n",
      "sgd = clf.fit(x,y, coef_init=[0], intercept_init=[0])\n",
      "print [sgd.intercept_, sgd.coef_]"
     ],
     "language": "python",
     "metadata": {},
     "outputs": [
      {
       "output_type": "stream",
       "stream": "stdout",
       "text": [
        "[array([ 1.02141669]), array([ 1.12136124])]\n"
       ]
      }
     ],
     "prompt_number": 69
    },
    {
     "cell_type": "code",
     "collapsed": false,
     "input": [],
     "language": "python",
     "metadata": {},
     "outputs": []
    }
   ],
   "metadata": {}
  }
 ]
}